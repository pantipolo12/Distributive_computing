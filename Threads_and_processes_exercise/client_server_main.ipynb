{
 "cells": [
  {
   "metadata": {
    "ExecuteTime": {
     "end_time": "2025-09-24T03:37:36.625482Z",
     "start_time": "2025-09-24T03:37:33.422938Z"
    }
   },
   "cell_type": "code",
   "source": [
    "import multiprocessing\n",
    "\n",
    "import sys\n",
    "\n",
    "# Import the functions and constants from the file you just created\n",
    "\n",
    "from Threads_and_processes_exercise.Pizzeria import run_server, run_client\n",
    "\n",
    "\n",
    "\n",
    "if __name__ == \"__main__\":\n",
    "\n",
    "  # 1. Create Queue\n",
    "\n",
    "  log_queue = multiprocessing.Queue()\n",
    "\n",
    "\n",
    "\n",
    "  # 2. Pass the queue to the target functions using the 'args' tuple\n",
    "\n",
    "  # Note the comma in args=(log_queue,) is important! (it takes a tuple)\n",
    "\n",
    "  server_process = multiprocessing.Process(target=run_server, args=(log_queue,))\n",
    "\n",
    "  client_process = multiprocessing.Process(target=run_client, args=(log_queue,))\n",
    "\n",
    "\n",
    "\n",
    "  # Start the processes\n",
    "\n",
    "  server_process.start()\n",
    "\n",
    "  client_process.start()\n",
    "\n",
    "\n",
    "\n",
    "  # 3. Check the queue and print messages until both processes are \"DONE\"\n",
    "\n",
    "  done_count = 0\n",
    "\n",
    "  while done_count < 2:\n",
    "\n",
    "    # This will wait until a message is in the queue\n",
    "\n",
    "    message = log_queue.get()\n",
    "\n",
    "    if message == \"DONE\":\n",
    "\n",
    "      done_count += 1\n",
    "\n",
    "    else:\n",
    "\n",
    "      # Print the message from the client or server\n",
    "\n",
    "      print(message)\n",
    "\n",
    "\n",
    "\n",
    "  # Wait for the processes to fully terminate\n",
    "\n",
    "  server_process.join()\n",
    "\n",
    "  client_process.join()\n",
    "\n",
    "\n",
    "\n",
    "  print(\"Main: Both client and server have finished.\")"
   ],
   "id": "ebc30c459eba533b",
   "outputs": [
    {
     "name": "stdout",
     "output_type": "stream",
     "text": [
      "SERVER: Pizzeria is open for business!\n",
      "CLIENT: I'm hungry for pizza!\n",
      "SERVER: Waiting for a customer to call at ('localhost', 6000)...\n",
      "CLIENT: Placing order: 'order:pepperoni'\n",
      "SERVER: A customer connected! ('127.0.0.1', 56667)\n",
      "SERVER: Received order: 'order:pepperoni'\n",
      "CLIENT: Pizzeria response: 'Pizza:pepperoni is on its way!'\n",
      "CLIENT: Placing order: 'order:margherita'\n",
      "SERVER: Received order: 'order:margherita'\n",
      "CLIENT: Pizzeria response: 'Pizza:margherita is on its way!'\n",
      "CLIENT: All done, hanging up.\n",
      "SERVER: Received order: 'hangup'\n",
      "SERVER: Customer hung up. Closing connection.\n",
      "Main: Both client and server have finished.\n"
     ]
    }
   ],
   "execution_count": 29
  }
 ],
 "metadata": {
  "kernelspec": {
   "display_name": "Python 3",
   "language": "python",
   "name": "python3"
  },
  "language_info": {
   "codemirror_mode": {
    "name": "ipython",
    "version": 2
   },
   "file_extension": ".py",
   "mimetype": "text/x-python",
   "name": "python",
   "nbconvert_exporter": "python",
   "pygments_lexer": "ipython2",
   "version": "2.7.6"
  }
 },
 "nbformat": 4,
 "nbformat_minor": 5
}
