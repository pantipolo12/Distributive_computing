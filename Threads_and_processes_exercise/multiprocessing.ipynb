{
 "cells": [
  {
   "cell_type": "code",
   "id": "initial_id",
   "metadata": {
    "collapsed": true,
    "ExecuteTime": {
     "end_time": "2025-09-24T03:34:30.115018Z",
     "start_time": "2025-09-24T03:34:29.982019Z"
    }
   },
   "source": [
    "# main goal to run the worker fnnction twice !\n",
    "\n",
    "\n",
    "\n",
    "# This line imports the multiprocessing module that allows to create and manage new processes.\n",
    "\n",
    "#A process is essentially an instance of a program running on your computer, with its own memory space\n",
    "\n",
    "import multiprocessing\n",
    "\n",
    "\n",
    "\n",
    "#This module is used here simply to pause the execution with time.sleep(), which simulates a long-running task.\n",
    "\n",
    "\n",
    "\n",
    "import time\n",
    "\n",
    "\n",
    "\n",
    "# This is the function that will be executed\n",
    "\n",
    "def worker_function(name):\n",
    "\n",
    "  print(f\"Process {name}: Starting...\")\n",
    "\n",
    "  #This is the most important part of the simulation. It pauses this function for 2 seconds.\n",
    "\n",
    "  #This represents a CPU-intensive task like a complex calculation, processing a large file, or making a network request.\n",
    "\n",
    "  time.sleep(2)\n",
    "\n",
    "  print(f\"Process {name}: Finished.\")\n",
    "\n",
    "\n",
    "\n",
    "#This if statement ensures that the code inside it only runs when the script is executed directly (the \"main\" program),\n",
    "\n",
    "#and not when it's imported by the child processes. Without this, you could get into an infinite loop of process creation.\n",
    "\n",
    "if __name__ == \"__main__\":\n",
    "\n",
    "  print(\"Main process: Starting worker processes...\")\n",
    "\n",
    "\n",
    "\n",
    "  # Create two Process objects\n",
    "\n",
    "  process1 = multiprocessing.Process(target=worker_function, args=(\"Worker 1\",))\n",
    "\n",
    "  process2 = multiprocessing.Process(target=worker_function, args=(\"Worker 2\",))\n",
    "\n",
    "\n",
    "\n",
    "  # Start the processes\n",
    "\n",
    "  process1.start()\n",
    "\n",
    "  process2.start()\n",
    "\n",
    "\n",
    "\n",
    "  # The .join() method is a synchronization point. It tells the main process:\n",
    "\n",
    "  #\"Pause here and wait until this other process has finished its execution.\"\n",
    "\n",
    "  process1.join()\n",
    "\n",
    "  process2.join()\n",
    "\n",
    "\n",
    "\n",
    "  #This line will only be executed after both join() calls have returned, meaning both child processes have finished completely\n",
    "\n",
    "\n",
    "\n",
    "  print(\"Main process: All worker processes finished.\")"
   ],
   "outputs": [
    {
     "name": "stdout",
     "output_type": "stream",
     "text": [
      "Main process: Starting worker processes...\n",
      "Main process: All worker processes finished.\n"
     ]
    },
    {
     "name": "stderr",
     "output_type": "stream",
     "text": [
      "Traceback (most recent call last):\n",
      "Traceback (most recent call last):\n",
      "  File \"<string>\", line 1, in <module>\n",
      "  File \"<string>\", line 1, in <module>\n",
      "  File \"/Users/paulantipolo/miniconda3/lib/python3.12/multiprocessing/spawn.py\", line 122, in spawn_main\n",
      "  File \"/Users/paulantipolo/miniconda3/lib/python3.12/multiprocessing/spawn.py\", line 122, in spawn_main\n",
      "    exitcode = _main(fd, parent_sentinel)\n",
      "    exitcode = _main(fd, parent_sentinel)\n",
      "               ^^^^^^^^^^^^^^^^^^^^^^^^^^\n",
      "  File \"/Users/paulantipolo/miniconda3/lib/python3.12/multiprocessing/spawn.py\", line 132, in _main\n",
      "               ^^^^^^^^^^^^^^^^^^^^^^^^^^\n",
      "  File \"/Users/paulantipolo/miniconda3/lib/python3.12/multiprocessing/spawn.py\", line 132, in _main\n",
      "    self = reduction.pickle.load(from_parent)\n",
      "    self = reduction.pickle.load(from_parent)\n",
      "           ^^^^^^^^^^^^^^^^^^^^^^^^^^^^^^^^^^\n",
      "AttributeError: Can't get attribute 'worker_function' on <module '__main__' (<class '_frozen_importlib.BuiltinImporter'>)>\n",
      "           ^^^^^^^^^^^^^^^^^^^^^^^^^^^^^^^^^^\n",
      "AttributeError: Can't get attribute 'worker_function' on <module '__main__' (<class '_frozen_importlib.BuiltinImporter'>)>\n"
     ]
    }
   ],
   "execution_count": 4
  }
 ],
 "metadata": {
  "kernelspec": {
   "display_name": "Python 3",
   "language": "python",
   "name": "python3"
  },
  "language_info": {
   "codemirror_mode": {
    "name": "ipython",
    "version": 2
   },
   "file_extension": ".py",
   "mimetype": "text/x-python",
   "name": "python",
   "nbconvert_exporter": "python",
   "pygments_lexer": "ipython2",
   "version": "2.7.6"
  }
 },
 "nbformat": 4,
 "nbformat_minor": 5
}
