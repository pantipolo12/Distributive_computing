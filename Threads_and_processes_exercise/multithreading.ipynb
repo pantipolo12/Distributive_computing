{
 "cells": [
  {
   "metadata": {
    "ExecuteTime": {
     "end_time": "2025-09-24T03:36:31.198289Z",
     "start_time": "2025-09-24T03:36:29.190141Z"
    }
   },
   "cell_type": "code",
   "source": [
    "# This line imports the threading module that allows to create and manage new threads.\n",
    "\n",
    "# A thread is a sequence of instructions within a single process.\n",
    "\n",
    "import threading\n",
    "\n",
    "\n",
    "\n",
    "# This module is used here simply to pause the execution with time.sleep(), which simulates a long-running task.\n",
    "\n",
    "import time\n",
    "\n",
    "\n",
    "\n",
    "# This is the function that will be executed in a separate thread.\n",
    "\n",
    "def worker_function(name):\n",
    "\n",
    "  print(f\"Thread {name}: Starting...\")\n",
    "\n",
    "  # This is the most important part of the simulation. It pauses this function for 2 seconds.\n",
    "\n",
    "  # This represents a task that might involve waiting for something, like a network request or file I/O.\n",
    "\n",
    "  time.sleep(2)\n",
    "\n",
    "  print(f\"Thread {name}: Finished.\")\n",
    "\n",
    "\n",
    "\n",
    "# This if statement ensures that the code inside it only runs when the script is executed directly (the \"main\" program).\n",
    "\n",
    "if __name__ == \"__main__\":\n",
    "\n",
    "  print(\"Main thread: Starting worker threads...\")\n",
    "\n",
    "\n",
    "\n",
    "  # Create two Thread objects\n",
    "\n",
    "  thread1 = threading.Thread(target=worker_function, args=(\"Worker 1\",))\n",
    "\n",
    "  thread2 = threading.Thread(target=worker_function, args=(\"Worker 2\",))\n",
    "\n",
    "\n",
    "\n",
    "  # Start the threads\n",
    "\n",
    "  thread1.start()\n",
    "\n",
    "  thread2.start()\n",
    "\n",
    "\n",
    "\n",
    "  # The .join() method is a synchronization point. It tells the main thread:\n",
    "\n",
    "  # \"Pause here and wait until this other thread has finished its execution.\"\n",
    "\n",
    "  thread1.join()\n",
    "\n",
    "  thread2.join()\n",
    "\n",
    "\n",
    "\n",
    "  # This line will only be executed after both join() calls have returned, meaning both child threads have finished completely.\n",
    "\n",
    "  print(\"Main thread: All worker threads finished.\")"
   ],
   "id": "a3f752fc5cbb8570",
   "outputs": [
    {
     "name": "stdout",
     "output_type": "stream",
     "text": [
      "Main thread: Starting worker threads...\n",
      "Thread Worker 1: Starting...\n",
      "Thread Worker 2: Starting...\n",
      "Thread Worker 1: Finished.\n",
      "Thread Worker 2: Finished.\n",
      "Main thread: All worker threads finished.\n"
     ]
    }
   ],
   "execution_count": 3
  }
 ],
 "metadata": {
  "kernelspec": {
   "display_name": "Python 3",
   "language": "python",
   "name": "python3"
  },
  "language_info": {
   "codemirror_mode": {
    "name": "ipython",
    "version": 2
   },
   "file_extension": ".py",
   "mimetype": "text/x-python",
   "name": "python",
   "nbconvert_exporter": "python",
   "pygments_lexer": "ipython2",
   "version": "2.7.6"
  }
 },
 "nbformat": 4,
 "nbformat_minor": 5
}
